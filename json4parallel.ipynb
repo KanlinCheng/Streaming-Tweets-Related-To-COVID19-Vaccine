{
 "cells": [
  {
   "cell_type": "code",
   "execution_count": 63,
   "metadata": {
    "ExecuteTime": {
     "end_time": "2021-04-28T23:33:26.209123Z",
     "start_time": "2021-04-28T23:33:26.206196Z"
    }
   },
   "outputs": [],
   "source": [
    "import json"
   ]
  },
  {
   "cell_type": "code",
   "execution_count": 64,
   "metadata": {
    "ExecuteTime": {
     "end_time": "2021-04-28T23:33:32.276241Z",
     "start_time": "2021-04-28T23:33:26.923596Z"
    }
   },
   "outputs": [],
   "source": [
    "with open('./tweet_after_cleaning.json') as f:\n",
    "    data = json.load(f)"
   ]
  },
  {
   "cell_type": "code",
   "execution_count": 65,
   "metadata": {
    "ExecuteTime": {
     "end_time": "2021-04-28T23:34:01.108691Z",
     "start_time": "2021-04-28T23:33:32.277236Z"
    }
   },
   "outputs": [],
   "source": [
    "with open('testout.json', 'w') as json_file:\n",
    "    for d in data:\n",
    "        d['_id'] = d['_id']['$oid']\n",
    "        d['created_at'] = d['created_at']['$date']\n",
    "        json.dump(d, json_file)\n",
    "        json_file.write('\\n')"
   ]
  },
  {
   "cell_type": "code",
   "execution_count": null,
   "metadata": {},
   "outputs": [],
   "source": []
  }
 ],
 "metadata": {
  "kernelspec": {
   "display_name": "Python 3",
   "language": "python",
   "name": "python3"
  },
  "language_info": {
   "codemirror_mode": {
    "name": "ipython",
    "version": 3
   },
   "file_extension": ".py",
   "mimetype": "text/x-python",
   "name": "python",
   "nbconvert_exporter": "python",
   "pygments_lexer": "ipython3",
   "version": "3.7.6"
  }
 },
 "nbformat": 4,
 "nbformat_minor": 4
}
