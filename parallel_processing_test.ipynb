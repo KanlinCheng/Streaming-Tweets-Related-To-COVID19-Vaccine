{
 "cells": [
  {
   "cell_type": "code",
   "execution_count": 1,
   "metadata": {
    "ExecuteTime": {
     "end_time": "2021-04-29T21:17:47.884774Z",
     "start_time": "2021-04-29T21:17:39.507318Z"
    }
   },
   "outputs": [],
   "source": [
    "from pyspark.sql import SparkSession\n",
    "import pyspark.sql.functions as fc\n",
    "spark = SparkSession.builder.appName('dsci551').getOrCreate()"
   ]
  },
  {
   "cell_type": "code",
   "execution_count": 2,
   "metadata": {
    "ExecuteTime": {
     "end_time": "2021-04-29T21:18:01.191073Z",
     "start_time": "2021-04-29T21:17:47.885750Z"
    }
   },
   "outputs": [],
   "source": [
    "df = spark.read.option(\"header\",True).json('./testout.json')"
   ]
  },
  {
   "cell_type": "code",
   "execution_count": 3,
   "metadata": {
    "ExecuteTime": {
     "end_time": "2021-04-29T21:18:01.233040Z",
     "start_time": "2021-04-29T21:18:01.193024Z"
    }
   },
   "outputs": [
    {
     "name": "stdout",
     "output_type": "stream",
     "text": [
      "root\n",
      " |-- _id: string (nullable = true)\n",
      " |-- city: string (nullable = true)\n",
      " |-- country: string (nullable = true)\n",
      " |-- country_code: string (nullable = true)\n",
      " |-- created_at: timestamp (nullable = true)\n",
      " |-- hashtags: array (nullable = true)\n",
      " |    |-- element: string (containsNull = true)\n",
      " |-- screen_name: string (nullable = true)\n",
      " |-- tweet: string (nullable = true)\n",
      " |-- tweet_id: long (nullable = true)\n",
      " |-- user_id: long (nullable = true)\n",
      "\n"
     ]
    }
   ],
   "source": [
    "df.printSchema()"
   ]
  },
  {
   "cell_type": "code",
   "execution_count": 4,
   "metadata": {
    "ExecuteTime": {
     "end_time": "2021-04-29T21:18:01.506319Z",
     "start_time": "2021-04-29T21:18:01.234015Z"
    }
   },
   "outputs": [
    {
     "data": {
      "text/plain": [
       "[Row(_id='603782cfa19bf221e69ec569', city=None, country=None, country_code=None, created_at=datetime.datetime(2021, 2, 25, 2, 58, 18), hashtags=[], screen_name='averismusic', tweet='Pfizer gang. My arm really hurts tired face', tweet_id=1364892472753741800, user_id=36044017)]"
      ]
     },
     "execution_count": 4,
     "metadata": {},
     "output_type": "execute_result"
    }
   ],
   "source": [
    "df.take(1)"
   ]
  },
  {
   "cell_type": "code",
   "execution_count": 5,
   "metadata": {
    "ExecuteTime": {
     "end_time": "2021-04-29T21:18:02.657997Z",
     "start_time": "2021-04-29T21:18:01.508271Z"
    }
   },
   "outputs": [
    {
     "data": {
      "text/plain": [
       "656438"
      ]
     },
     "execution_count": 5,
     "metadata": {},
     "output_type": "execute_result"
    }
   ],
   "source": [
    "df.count()"
   ]
  },
  {
   "cell_type": "markdown",
   "metadata": {
    "heading_collapsed": true
   },
   "source": [
    "# 每日推文数量"
   ]
  },
  {
   "cell_type": "code",
   "execution_count": 6,
   "metadata": {
    "ExecuteTime": {
     "end_time": "2021-04-29T21:18:03.705818Z",
     "start_time": "2021-04-29T21:18:02.660924Z"
    },
    "hidden": true
   },
   "outputs": [
    {
     "data": {
      "text/plain": [
       "0"
      ]
     },
     "execution_count": 6,
     "metadata": {},
     "output_type": "execute_result"
    }
   ],
   "source": [
    "df[df.created_at.isNull()][['created_at']].count()"
   ]
  },
  {
   "cell_type": "code",
   "execution_count": 7,
   "metadata": {
    "ExecuteTime": {
     "end_time": "2021-04-29T21:18:03.799513Z",
     "start_time": "2021-04-29T21:18:03.707771Z"
    },
    "hidden": true
   },
   "outputs": [
    {
     "data": {
      "text/plain": [
       "[Row(created_at=datetime.datetime(2021, 2, 25, 2, 58, 18)),\n",
       " Row(created_at=datetime.datetime(2021, 2, 25, 2, 58, 19)),\n",
       " Row(created_at=datetime.datetime(2021, 2, 25, 2, 58, 19)),\n",
       " Row(created_at=datetime.datetime(2021, 2, 25, 2, 58, 19)),\n",
       " Row(created_at=datetime.datetime(2021, 2, 25, 2, 58, 20)),\n",
       " Row(created_at=datetime.datetime(2021, 2, 25, 2, 58, 20)),\n",
       " Row(created_at=datetime.datetime(2021, 2, 25, 2, 58, 21)),\n",
       " Row(created_at=datetime.datetime(2021, 2, 25, 2, 58, 21)),\n",
       " Row(created_at=datetime.datetime(2021, 2, 25, 2, 58, 21)),\n",
       " Row(created_at=datetime.datetime(2021, 2, 25, 2, 58, 22))]"
      ]
     },
     "execution_count": 7,
     "metadata": {},
     "output_type": "execute_result"
    }
   ],
   "source": [
    "df[['created_at']].take(10)"
   ]
  },
  {
   "cell_type": "code",
   "execution_count": 8,
   "metadata": {
    "ExecuteTime": {
     "end_time": "2021-04-29T21:18:10.811880Z",
     "start_time": "2021-04-29T21:18:03.801467Z"
    },
    "hidden": true
   },
   "outputs": [
    {
     "data": {
      "text/plain": [
       "97967"
      ]
     },
     "execution_count": 8,
     "metadata": {},
     "output_type": "execute_result"
    }
   ],
   "source": [
    "df[df.created_at.rlike('2021-02-25')].rdd.count()"
   ]
  },
  {
   "cell_type": "code",
   "execution_count": 9,
   "metadata": {
    "ExecuteTime": {
     "end_time": "2021-04-29T21:18:10.820663Z",
     "start_time": "2021-04-29T21:18:10.813831Z"
    },
    "hidden": true
   },
   "outputs": [],
   "source": [
    "def date_str_int(n):\n",
    "    res = int(n.replace('-', ''))\n",
    "    return res\n",
    "\n",
    "def date_int_str(n):\n",
    "    res = list(str(n))\n",
    "    res.insert(4, '-')\n",
    "    res.insert(7, '-')\n",
    "    res = ''.join(res)\n",
    "    return res"
   ]
  },
  {
   "cell_type": "code",
   "execution_count": 10,
   "metadata": {
    "ExecuteTime": {
     "end_time": "2021-04-29T21:18:21.099099Z",
     "start_time": "2021-04-29T21:18:10.822614Z"
    },
    "hidden": true
   },
   "outputs": [
    {
     "name": "stdout",
     "output_type": "stream",
     "text": [
      "2021-02-25 97967\n",
      "2021-02-26 89463\n",
      "2021-02-27 87522\n",
      "2021-02-28 46316\n",
      "2021-03-01 82514\n",
      "2021-03-02 75871\n",
      "2021-03-03 66403\n",
      "2021-03-04 71407\n",
      "2021-03-05 38975\n"
     ]
    }
   ],
   "source": [
    "for date in range(20210225, 20210229):\n",
    "    date_str = date_int_str(date)\n",
    "    cnt = df[df.created_at.rlike(date_str)].count()\n",
    "    print(date_str, cnt)\n",
    "for date in range(20210301, 20210306):\n",
    "    date_str = date_int_str(date)\n",
    "    cnt = df[df.created_at.rlike(date_str)].count()\n",
    "    print(date_str, cnt)"
   ]
  },
  {
   "cell_type": "code",
   "execution_count": 11,
   "metadata": {
    "ExecuteTime": {
     "end_time": "2021-04-29T21:18:21.105930Z",
     "start_time": "2021-04-29T21:18:21.101053Z"
    },
    "hidden": true
   },
   "outputs": [
    {
     "data": {
      "text/plain": [
       "656438"
      ]
     },
     "execution_count": 11,
     "metadata": {},
     "output_type": "execute_result"
    }
   ],
   "source": [
    "97967 + 89463 + 87522 + 46316 + 82514 + 75871 + 66403 + 71407 + 38975"
   ]
  },
  {
   "cell_type": "markdown",
   "metadata": {},
   "source": [
    "# tweet word cnt"
   ]
  },
  {
   "cell_type": "code",
   "execution_count": 12,
   "metadata": {
    "ExecuteTime": {
     "end_time": "2021-04-29T21:18:21.183034Z",
     "start_time": "2021-04-29T21:18:21.107883Z"
    }
   },
   "outputs": [
    {
     "data": {
      "text/plain": [
       "[Row(tweet='Pfizer gang. My arm really hurts tired face')]"
      ]
     },
     "execution_count": 12,
     "metadata": {},
     "output_type": "execute_result"
    }
   ],
   "source": [
    "df[['tweet']].take(1)"
   ]
  },
  {
   "cell_type": "code",
   "execution_count": 13,
   "metadata": {
    "ExecuteTime": {
     "end_time": "2021-04-29T21:18:21.195723Z",
     "start_time": "2021-04-29T21:18:21.184985Z"
    }
   },
   "outputs": [],
   "source": [
    "tweet_df = df[['tweet']]"
   ]
  },
  {
   "cell_type": "code",
   "execution_count": 14,
   "metadata": {
    "ExecuteTime": {
     "end_time": "2021-04-29T21:18:21.262089Z",
     "start_time": "2021-04-29T21:18:21.197674Z"
    }
   },
   "outputs": [
    {
     "data": {
      "text/plain": [
       "[Row(tweet='Pfizer gang. My arm really hurts tired face'),\n",
       " Row(tweet='Me when i attended a weekend retreat with my batman pajamas...and my batman toothbrush\\n\\nI was 20.')]"
      ]
     },
     "execution_count": 14,
     "metadata": {},
     "output_type": "execute_result"
    }
   ],
   "source": [
    "tweet_df.take(2)"
   ]
  },
  {
   "cell_type": "code",
   "execution_count": 15,
   "metadata": {
    "ExecuteTime": {
     "end_time": "2021-04-29T21:18:21.380212Z",
     "start_time": "2021-04-29T21:18:21.264042Z"
    }
   },
   "outputs": [
    {
     "name": "stdout",
     "output_type": "stream",
     "text": [
      "+--------------------+\n",
      "|               tweet|\n",
      "+--------------------+\n",
      "|Pfizer gang. My a...|\n",
      "|Me when i attende...|\n",
      "|@pabloLID07 @king...|\n",
      "|Nope. That's not ...|\n",
      "|@Riaanafrica @BT_...|\n",
      "|loudspeaker Major...|\n",
      "|They want to give...|\n",
      "|Experts worry var...|\n",
      "|Does it feel weir...|\n",
      "|...good question....|\n",
      "|Hey, check out th...|\n",
      "|@SarahJTodd @chri...|\n",
      "|Plans to launch a...|\n",
      "|No Vaccine, No Fo...|\n",
      "|@suzseddon Once t...|\n",
      "|@QuigleyCatriona ...|\n",
      "|@idgiveuakidney A...|\n",
      "|We are urging our...|\n",
      "|@DrAmarMOH Meanwh...|\n",
      "|So thankful to be...|\n",
      "+--------------------+\n",
      "only showing top 20 rows\n",
      "\n"
     ]
    }
   ],
   "source": [
    "tweet_df.show()"
   ]
  },
  {
   "cell_type": "code",
   "execution_count": 16,
   "metadata": {
    "ExecuteTime": {
     "end_time": "2021-04-29T21:18:21.511972Z",
     "start_time": "2021-04-29T21:18:21.382164Z"
    }
   },
   "outputs": [
    {
     "name": "stdout",
     "output_type": "stream",
     "text": [
      "+--------------------+---------+\n",
      "|               tweet|wordCount|\n",
      "+--------------------+---------+\n",
      "|Pfizer gang. My a...|        8|\n",
      "|Me when i attende...|       16|\n",
      "|@pabloLID07 @king...|       27|\n",
      "|Nope. That's not ...|       15|\n",
      "|@Riaanafrica @BT_...|       47|\n",
      "|loudspeaker Major...|       31|\n",
      "|They want to give...|       24|\n",
      "|Experts worry var...|       19|\n",
      "|Does it feel weir...|       34|\n",
      "|...good question....|       36|\n",
      "|Hey, check out th...|       35|\n",
      "|@SarahJTodd @chri...|       18|\n",
      "|Plans to launch a...|       24|\n",
      "|No Vaccine, No Fo...|       14|\n",
      "|@suzseddon Once t...|       53|\n",
      "|@QuigleyCatriona ...|       39|\n",
      "|@idgiveuakidney A...|       26|\n",
      "|We are urging our...|       24|\n",
      "|@DrAmarMOH Meanwh...|        6|\n",
      "|So thankful to be...|       45|\n",
      "+--------------------+---------+\n",
      "only showing top 20 rows\n",
      "\n"
     ]
    }
   ],
   "source": [
    "test_df = tweet_df.withColumn('wordCount', fc.size(fc.split(fc.col('tweet'), ' ')))\n",
    "test_df.show()"
   ]
  },
  {
   "cell_type": "code",
   "execution_count": 17,
   "metadata": {
    "ExecuteTime": {
     "end_time": "2021-04-29T21:18:27.042209Z",
     "start_time": "2021-04-29T21:18:21.513923Z"
    }
   },
   "outputs": [
    {
     "name": "stdout",
     "output_type": "stream",
     "text": [
      "+-------+------+\n",
      "|   word| count|\n",
      "+-------+------+\n",
      "|    the|583435|\n",
      "|     to|418294|\n",
      "|     of|278235|\n",
      "|    and|263064|\n",
      "|      a|255965|\n",
      "|vaccine|226552|\n",
      "|     in|200967|\n",
      "|     is|190475|\n",
      "|    for|176946|\n",
      "|      I|152786|\n",
      "|       |119379|\n",
      "|    are|119118|\n",
      "|   that|115509|\n",
      "|    you|113757|\n",
      "|   with|107141|\n",
      "|   have|105128|\n",
      "|     be|103526|\n",
      "|     on| 98398|\n",
      "|     it| 87367|\n",
      "|    get| 85986|\n",
      "+-------+------+\n",
      "only showing top 20 rows\n",
      "\n"
     ]
    }
   ],
   "source": [
    " tweet_res = tweet_df.withColumn('word', fc.explode(fc.split(fc.col('tweet'), ' ')))\\\n",
    "    .groupBy('word')\\\n",
    "    .count()\\\n",
    "    .sort('count', ascending=False)\n",
    "tweet_res.show()"
   ]
  },
  {
   "cell_type": "markdown",
   "metadata": {},
   "source": [
    "# hashtag"
   ]
  },
  {
   "cell_type": "code",
   "execution_count": 18,
   "metadata": {
    "ExecuteTime": {
     "end_time": "2021-04-29T21:18:27.058334Z",
     "start_time": "2021-04-29T21:18:27.046113Z"
    }
   },
   "outputs": [],
   "source": [
    "hashtag_df = df[['hashtags']]"
   ]
  },
  {
   "cell_type": "code",
   "execution_count": 19,
   "metadata": {
    "ExecuteTime": {
     "end_time": "2021-04-29T21:18:27.081293Z",
     "start_time": "2021-04-29T21:18:27.061263Z"
    }
   },
   "outputs": [
    {
     "data": {
      "text/plain": [
       "DataFrame[hashtags: array<string>]"
      ]
     },
     "execution_count": 19,
     "metadata": {},
     "output_type": "execute_result"
    }
   ],
   "source": [
    "hashtag_df"
   ]
  },
  {
   "cell_type": "code",
   "execution_count": 20,
   "metadata": {
    "ExecuteTime": {
     "end_time": "2021-04-29T21:18:27.203884Z",
     "start_time": "2021-04-29T21:18:27.083244Z"
    }
   },
   "outputs": [
    {
     "name": "stdout",
     "output_type": "stream",
     "text": [
      "+--------------------+\n",
      "|            hashtags|\n",
      "+--------------------+\n",
      "|                  []|\n",
      "|                  []|\n",
      "|                  []|\n",
      "|                  []|\n",
      "|                  []|\n",
      "|[covid, covid19va...|\n",
      "|                  []|\n",
      "|[covid19, covidva...|\n",
      "|                  []|\n",
      "|                  []|\n",
      "|[topic, eu, merke...|\n",
      "|                  []|\n",
      "|                  []|\n",
      "|                  []|\n",
      "|                  []|\n",
      "|                  []|\n",
      "|                  []|\n",
      "|    [covid19vaccine]|\n",
      "|                  []|\n",
      "|                  []|\n",
      "+--------------------+\n",
      "only showing top 20 rows\n",
      "\n"
     ]
    }
   ],
   "source": [
    "hashtag_df.show()"
   ]
  },
  {
   "cell_type": "code",
   "execution_count": 21,
   "metadata": {
    "ExecuteTime": {
     "end_time": "2021-04-29T21:18:28.032771Z",
     "start_time": "2021-04-29T21:18:27.206352Z"
    }
   },
   "outputs": [
    {
     "name": "stdout",
     "output_type": "stream",
     "text": [
      "+---------------+\n",
      "|count(hashtags)|\n",
      "+---------------+\n",
      "|         235412|\n",
      "+---------------+\n",
      "\n"
     ]
    }
   ],
   "source": [
    "hashtag_df.select(\"*\", fc.explode(\"hashtags\"))\\\n",
    "    .agg(fc.count(\"hashtags\"))\\\n",
    "    .show()"
   ]
  },
  {
   "cell_type": "code",
   "execution_count": 22,
   "metadata": {
    "ExecuteTime": {
     "end_time": "2021-04-29T21:18:28.039604Z",
     "start_time": "2021-04-29T21:18:28.034724Z"
    }
   },
   "outputs": [],
   "source": [
    "with open('./vaccine_key_words.txt') as f:\n",
    "    keyword_data = f.readlines()"
   ]
  },
  {
   "cell_type": "code",
   "execution_count": 23,
   "metadata": {
    "ExecuteTime": {
     "end_time": "2021-04-29T21:18:28.111357Z",
     "start_time": "2021-04-29T21:18:28.041556Z"
    }
   },
   "outputs": [
    {
     "ename": "NameError",
     "evalue": "name 'hashtag_set' is not defined",
     "output_type": "error",
     "traceback": [
      "\u001b[1;31m---------------------------------------------------------------------------\u001b[0m",
      "\u001b[1;31mNameError\u001b[0m                                 Traceback (most recent call last)",
      "\u001b[1;32m<ipython-input-23-eff6cfcaa364>\u001b[0m in \u001b[0;36m<module>\u001b[1;34m\u001b[0m\n\u001b[0;32m      1\u001b[0m \u001b[1;32mfor\u001b[0m \u001b[0mkeyword\u001b[0m \u001b[1;32min\u001b[0m \u001b[0mkeyword_data\u001b[0m\u001b[1;33m:\u001b[0m\u001b[1;33m\u001b[0m\u001b[1;33m\u001b[0m\u001b[0m\n\u001b[0;32m      2\u001b[0m     \u001b[0mtmp\u001b[0m \u001b[1;33m=\u001b[0m \u001b[0mkeyword\u001b[0m\u001b[1;33m.\u001b[0m\u001b[0mreplace\u001b[0m\u001b[1;33m(\u001b[0m\u001b[1;34m'\\n'\u001b[0m\u001b[1;33m,\u001b[0m \u001b[1;34m''\u001b[0m\u001b[1;33m)\u001b[0m\u001b[1;33m\u001b[0m\u001b[1;33m\u001b[0m\u001b[0m\n\u001b[1;32m----> 3\u001b[1;33m     \u001b[0mhashtag_set\u001b[0m\u001b[1;33m.\u001b[0m\u001b[0madd\u001b[0m\u001b[1;33m(\u001b[0m\u001b[0mtmp\u001b[0m\u001b[1;33m)\u001b[0m\u001b[1;33m\u001b[0m\u001b[1;33m\u001b[0m\u001b[0m\n\u001b[0m",
      "\u001b[1;31mNameError\u001b[0m: name 'hashtag_set' is not defined"
     ]
    }
   ],
   "source": [
    "for keyword in keyword_data:\n",
    "    tmp = keyword.replace('\\n', '')\n",
    "    hashtag_set.add(tmp)"
   ]
  },
  {
   "cell_type": "code",
   "execution_count": null,
   "metadata": {
    "ExecuteTime": {
     "end_time": "2021-04-29T21:18:28.113311Z",
     "start_time": "2021-04-29T21:17:39.593Z"
    }
   },
   "outputs": [],
   "source": [
    "hashtag_set"
   ]
  },
  {
   "cell_type": "code",
   "execution_count": null,
   "metadata": {
    "ExecuteTime": {
     "end_time": "2021-04-29T21:18:28.115262Z",
     "start_time": "2021-04-29T21:17:39.595Z"
    }
   },
   "outputs": [],
   "source": [
    "for hashtag in hashtag_set:\n",
    "    num = hashtag_df[fc.array_contains('hashtags', hashtag)].count()\n",
    "    print(hashtag, num)"
   ]
  },
  {
   "cell_type": "code",
   "execution_count": null,
   "metadata": {},
   "outputs": [],
   "source": []
  }
 ],
 "metadata": {
  "kernelspec": {
   "display_name": "Python 3",
   "language": "python",
   "name": "python3"
  },
  "language_info": {
   "codemirror_mode": {
    "name": "ipython",
    "version": 3
   },
   "file_extension": ".py",
   "mimetype": "text/x-python",
   "name": "python",
   "nbconvert_exporter": "python",
   "pygments_lexer": "ipython3",
   "version": "3.7.6"
  }
 },
 "nbformat": 4,
 "nbformat_minor": 4
}
