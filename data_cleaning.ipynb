{
 "cells": [
  {
   "cell_type": "code",
   "execution_count": 1,
   "metadata": {
    "ExecuteTime": {
     "end_time": "2021-03-19T00:01:40.306819Z",
     "start_time": "2021-03-19T00:01:40.191653Z"
    }
   },
   "outputs": [],
   "source": [
    "import json\n",
    "import re\n",
    "# !pip install demoji\n",
    "import demoji\n",
    "# demoji.download_codes()"
   ]
  },
  {
   "cell_type": "code",
   "execution_count": 2,
   "metadata": {
    "ExecuteTime": {
     "end_time": "2021-03-19T00:01:41.052193Z",
     "start_time": "2021-03-19T00:01:41.049265Z"
    }
   },
   "outputs": [],
   "source": [
    "dataset_fp = 'tweet_stream_0225_0305.json'\n",
    "output_fp = 'tweet_after_cleaning.json'"
   ]
  },
  {
   "cell_type": "code",
   "execution_count": 3,
   "metadata": {
    "ExecuteTime": {
     "end_time": "2021-03-19T00:01:47.659899Z",
     "start_time": "2021-03-19T00:01:41.733429Z"
    }
   },
   "outputs": [],
   "source": [
    "with open(dataset_fp, encoding='utf-8') as f:\n",
    "    tweets = json.load(f)"
   ]
  },
  {
   "cell_type": "code",
   "execution_count": 4,
   "metadata": {
    "ExecuteTime": {
     "end_time": "2021-03-19T00:01:47.670166Z",
     "start_time": "2021-03-19T00:01:47.661389Z"
    }
   },
   "outputs": [
    {
     "data": {
      "text/plain": [
       "{'_id': {'$oid': '603782cfa19bf221e69ec569'},\n",
       " 'tweet_id': 1364892472753741800,\n",
       " 'created_at': {'$date': '2021-02-25T10:58:18Z'},\n",
       " 'country': None,\n",
       " 'country_code': None,\n",
       " 'city': None,\n",
       " 'user_id': 36044017,\n",
       " 'screen_name': 'averismusic',\n",
       " 'tweet': 'Pfizer gang. My arm really hurts 😫 https://t.co/eNM8xoToyl',\n",
       " 'hashtags': []}"
      ]
     },
     "execution_count": 4,
     "metadata": {},
     "output_type": "execute_result"
    }
   ],
   "source": [
    "tweets[0]"
   ]
  },
  {
   "cell_type": "code",
   "execution_count": 5,
   "metadata": {
    "ExecuteTime": {
     "end_time": "2021-03-19T00:01:47.686290Z",
     "start_time": "2021-03-19T00:01:47.672119Z"
    }
   },
   "outputs": [],
   "source": [
    "def tweet_delete_url(tweet): \n",
    "    regex = r\"(?i)\\b((?:https?://|www\\d{0,3}[.]|[a-z0-9.\\-]+[.][a-z]{2,4}/)(?:[^\\s()<>]+|\\(([^\\s()<>]+|(\\([^\\s()<>]+\\)))*\\))+(?:\\(([^\\s()<>]+|(\\([^\\s()<>]+\\)))*\\)|[^\\s`!()\\[\\]{};:'\\\".,<>?«»“”‘’]))\"\n",
    "    url = re.findall(regex,tweet['tweet'])       \n",
    "    url_list = [x[0] for x in url]\n",
    "    for url in url_list:\n",
    "        tweet['tweet'] = tweet['tweet'].replace(url, '')\n",
    "    return tweet\n",
    "\n",
    "def tweet_demoji(tweet):\n",
    "    demoji_list = demoji.findall_list(tweet['tweet'])\n",
    "    for description in demoji_list:\n",
    "        tweet['tweet'] = demoji.replace(tweet['tweet'], description)\n",
    "    return tweet\n",
    "\n",
    "def tweet_strip(tweet):\n",
    "    tweet['tweet'] = tweet['tweet'].strip()\n",
    "    return tweet\n",
    "\n",
    "def tweet_delete_hashtags(tweet):\n",
    "    content = tweet['tweet']\n",
    "    hashtag_set = set(tweet['hashtags'])\n",
    "    \n",
    "    tail_tag = 1\n",
    "    i = last_idx = len(content) - 1\n",
    "    while '#' in content and i > 0:\n",
    "        if content[i] == ' ':\n",
    "            tail_tag = 0\n",
    "        if content[i] == '#':\n",
    "            if tail_tag:\n",
    "                cur_tag = content[i+1: last_idx+1]\n",
    "                if cur_tag.lower() in hashtag_set:\n",
    "                    content = content[:i]\n",
    "                    content = content.strip()\n",
    "                    i = last_idx = len(content) - 1\n",
    "            if not tail_tag:\n",
    "                content = content[:i] + content[i+1:]\n",
    "                last_idx = len(content) - 1\n",
    "        i -= 1\n",
    "        \n",
    "    tweet['tweet'] = content.strip()\n",
    "    return tweet\n",
    "\n",
    "def write_json(output_fp, data):\n",
    "    with open(output_fp, 'a') as f:\n",
    "        f.write(',')\n",
    "        json.dump(data, f, indent=2)"
   ]
  },
  {
   "cell_type": "code",
   "execution_count": 6,
   "metadata": {
    "ExecuteTime": {
     "end_time": "2021-03-19T00:01:48.114128Z",
     "start_time": "2021-03-19T00:01:47.688240Z"
    }
   },
   "outputs": [
    {
     "name": "stdout",
     "output_type": "stream",
     "text": [
      "📢 Major vaccine developer, Moderna, will announce its earnings today as it is set to begin trials on a new #Covid vaccine to combat the “South African” variant of the virus. \n",
      "\n",
      "#COVID19Vaccine #Moderna https://t.co/yJTaLwiwBI\n",
      "=============\n",
      "loudspeaker Major vaccine developer, Moderna, will announce its earnings today as it is set to begin trials on a new #Covid vaccine to combat the “South African” variant of the virus. \n",
      "\n",
      "#COVID19Vaccine #Moderna https://t.co/yJTaLwiwBI\n",
      "=============\n",
      "loudspeaker Major vaccine developer, Moderna, will announce its earnings today as it is set to begin trials on a new #Covid vaccine to combat the “South African” variant of the virus. \n",
      "\n",
      "#COVID19Vaccine #Moderna \n",
      "=============\n",
      "loudspeaker Major vaccine developer, Moderna, will announce its earnings today as it is set to begin trials on a new Covid vaccine to combat the “South African” variant of the virus.\n"
     ]
    }
   ],
   "source": [
    "test = tweets[5].copy()\n",
    "print(test['tweet'])\n",
    "print('=============')\n",
    "test = tweet_demoji(test)\n",
    "print(test['tweet'])\n",
    "print('=============')\n",
    "test = tweet_delete_url(test)\n",
    "print(test['tweet'])\n",
    "print('=============')\n",
    "test = tweet_strip(test)\n",
    "test = tweet_delete_hashtags(test)\n",
    "print(test['tweet'])"
   ]
  },
  {
   "cell_type": "code",
   "execution_count": 7,
   "metadata": {
    "ExecuteTime": {
     "end_time": "2021-03-19T00:01:58.074721Z",
     "start_time": "2021-03-19T00:01:58.058129Z"
    },
    "scrolled": true
   },
   "outputs": [
    {
     "name": "stdout",
     "output_type": "stream",
     "text": [
      "Pfizer gang. My arm really hurts 😫 https://t.co/eNM8xoToyl\n",
      "=============\n",
      "Pfizer gang. My arm really hurts tired face\n",
      "=================================\n",
      "Me when i attended a weekend retreat with my batman pajamas...and my batman toothbrush\n",
      "\n",
      "I was 20.\n",
      "=============\n",
      "Me when i attended a weekend retreat with my batman pajamas...and my batman toothbrush\n",
      "\n",
      "I was 20.\n",
      "=================================\n",
      "@pabloLID07 @kingybbb @LBC The schools bit kind of is 😂. They should have been vaccinated weeks ago to get the schools open earlier.\n",
      "=============\n",
      "@pabloLID07 @kingybbb @LBC The schools bit kind of is face with tears of joy. They should have been vaccinated weeks ago to get the schools open earlier.\n",
      "=================================\n",
      "Nope. That's not why they're scared.\n",
      "\n",
      "They're scared because they're in too many family/friend WhatsApp groups.\n",
      "=============\n",
      "Nope. That's not why they're scared.\n",
      "\n",
      "They're scared because they're in too many family/friend WhatsApp groups.\n",
      "=================================\n",
      "@Riaanafrica @BT_Sidyani @MbalulaFikile No there were not any passengers. Emirates is not flying passengers between sa and dubai. Even the tui flight that brought the 2nd conaignment was charterd after saa was refused permision to fly to brussels. So yes all they are flying are the vaccines\n",
      "=============\n",
      "@Riaanafrica @BT_Sidyani @MbalulaFikile No there were not any passengers. Emirates is not flying passengers between sa and dubai. Even the tui flight that brought the 2nd conaignment was charterd after saa was refused permision to fly to brussels. So yes all they are flying are the vaccines\n",
      "=================================\n",
      "📢 Major vaccine developer, Moderna, will announce its earnings today as it is set to begin trials on a new #Covid vaccine to combat the “South African” variant of the virus. \n",
      "\n",
      "#COVID19Vaccine #Moderna https://t.co/yJTaLwiwBI\n",
      "=============\n",
      "loudspeaker Major vaccine developer, Moderna, will announce its earnings today as it is set to begin trials on a new Covid vaccine to combat the “South African” variant of the virus.\n",
      "=================================\n",
      "They want to give you a fake vaccine so they can track you because they can’t already track you with your fucking mobile phone.\n",
      "=============\n",
      "They want to give you a fake vaccine so they can track you because they can’t already track you with your fucking mobile phone.\n",
      "=================================\n",
      "Experts worry variant-fueled Covid-19 surge may be weeks away but cases will likely fall again by summer - CNN #COVID19 #COVIDvaccine #VaccinesAreSafe #VaccinesSaveLives #ThisIsOurShot  https://t.co/IF2dsvWKMH\n",
      "=============\n",
      "Experts worry variant-fueled Covid-19 surge may be weeks away but cases will likely fall again by summer - CNN\n",
      "=================================\n",
      "Does it feel weird that being fat will get me the vaccine quicker than my actual medical issues? Yes\n",
      "\n",
      "Still going to take it as soon as they give it to me, whatever the reason\n",
      "=============\n",
      "Does it feel weird that being fat will get me the vaccine quicker than my actual medical issues? Yes\n",
      "\n",
      "Still going to take it as soon as they give it to me, whatever the reason\n",
      "=================================\n",
      "...good question.  I think the \"vaccine\" is to WEAKEN the human immune system and to bring down human fertility.  This would be perfectly in tune with the WEF plan to reduce the human population...\n",
      "=============\n",
      "...good question.  I think the \"vaccine\" is to WEAKEN the human immune system and to bring down human fertility.  This would be perfectly in tune with the WEF plan to reduce the human population...\n",
      "=================================\n"
     ]
    }
   ],
   "source": [
    "for i in range(10):\n",
    "    test = tweets[i]\n",
    "    print(test['tweet'])\n",
    "    print('=============')\n",
    "    test = tweet_demoji(test)\n",
    "    test = tweet_delete_url(test)\n",
    "    test = tweet_strip(test)\n",
    "    test = tweet_delete_hashtags(test)\n",
    "    print(test['tweet'])\n",
    "    print('=================================')"
   ]
  },
  {
   "cell_type": "code",
   "execution_count": null,
   "metadata": {
    "ExecuteTime": {
     "end_time": "2021-03-18T23:20:28.067069Z",
     "start_time": "2021-03-18T23:20:28.053875Z"
    }
   },
   "outputs": [],
   "source": [
    "# idx, cnt = 0, 0\n",
    "# for t in tweets:\n",
    "    \n",
    "#     test = t\n",
    "#     test = tweet_demoji(test)\n",
    "#     test = tweet_delete_url(test)\n",
    "#     test = tweet_strip(test)\n",
    "#     test = tweet_delete_hashtags(test)\n",
    "#     if test['tweet'] == '':\n",
    "#         cnt += 1\n",
    "#     print(idx, cnt)\n",
    "#     idx += 1\n",
    "# cnt    "
   ]
  },
  {
   "cell_type": "code",
   "execution_count": null,
   "metadata": {
    "ExecuteTime": {
     "end_time": "2021-03-18T23:40:53.368270Z",
     "start_time": "2021-03-18T23:20:28.068046Z"
    }
   },
   "outputs": [],
   "source": [
    "for t in tweets:\n",
    "    test = t\n",
    "    test = tweet_demoji(test)\n",
    "    test = tweet_delete_url(test)\n",
    "    test = tweet_strip(test)\n",
    "    test = tweet_delete_hashtags(test)\n",
    "    if idx == 0:\n",
    "        with open(output_fp, 'a') as f:\n",
    "            f.write('[')\n",
    "            json.dump(test, f, indent=2)\n",
    "    else:\n",
    "        write_json(output_fp, test)\n",
    "    print(idx)\n",
    "    idx += 1\n",
    "with open(output_fp, 'a') as f:\n",
    "    f.write(']')"
   ]
  },
  {
   "cell_type": "code",
   "execution_count": null,
   "metadata": {},
   "outputs": [],
   "source": []
  }
 ],
 "metadata": {
  "kernelspec": {
   "display_name": "Python 3",
   "language": "python",
   "name": "python3"
  },
  "language_info": {
   "codemirror_mode": {
    "name": "ipython",
    "version": 3
   },
   "file_extension": ".py",
   "mimetype": "text/x-python",
   "name": "python",
   "nbconvert_exporter": "python",
   "pygments_lexer": "ipython3",
   "version": "3.7.6"
  }
 },
 "nbformat": 4,
 "nbformat_minor": 4
}
